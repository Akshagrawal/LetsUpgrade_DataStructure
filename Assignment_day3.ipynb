{
 "cells": [
  {
   "cell_type": "code",
   "execution_count": 1,
   "metadata": {},
   "outputs": [
    {
     "name": "stdout",
     "output_type": "stream",
     "text": [
      "Enter first number:50\n",
      "Enter second number:60\n",
      "Sum is: 110\n"
     ]
    }
   ],
   "source": [
    "class Test:\n",
    "\n",
    "    def findsum(self, a, b):\n",
    "        s = a + b\n",
    "        return s\n",
    "\n",
    "\n",
    "a = int(input(\"Enter first number:\"))\n",
    "b = int(input(\"Enter second number:\"))\n",
    "\n",
    "obj = Test()\n",
    "s = obj.findsum(a, b)\n",
    "\n",
    "print(\"Sum is:\", s)"
   ]
  },
  {
   "cell_type": "code",
   "execution_count": 2,
   "metadata": {},
   "outputs": [
    {
     "name": "stdout",
     "output_type": "stream",
     "text": [
      "Enter the first number: 10\n",
      "Enter the second number: 50\n",
      "Swapped value of x is 50 & y is 10\n"
     ]
    }
   ],
   "source": [
    "def swap(a, b):\n",
    "    t = a\n",
    "    a = b\n",
    "    b = t\n",
    "    return a, b\n",
    "\n",
    "#getting input from the user\n",
    "a = float(input(\"Enter the first number: \"))\n",
    "b = float(input(\"Enter the second number: \"))\n",
    "\n",
    "#calling the function\n",
    "a, b = swap(a, b)\n",
    "\n",
    "#printing the output\n",
    "print(\"Swapped value of x is %d & y is %d\" %(a,b))"
   ]
  },
  {
   "cell_type": "code",
   "execution_count": null,
   "metadata": {},
   "outputs": [],
   "source": []
  }
 ],
 "metadata": {
  "kernelspec": {
   "display_name": "Python 3",
   "language": "python",
   "name": "python3"
  },
  "language_info": {
   "codemirror_mode": {
    "name": "ipython",
    "version": 3
   },
   "file_extension": ".py",
   "mimetype": "text/x-python",
   "name": "python",
   "nbconvert_exporter": "python",
   "pygments_lexer": "ipython3",
   "version": "3.7.6"
  }
 },
 "nbformat": 4,
 "nbformat_minor": 4
}
