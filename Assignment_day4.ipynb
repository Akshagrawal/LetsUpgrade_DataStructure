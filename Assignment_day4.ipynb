{
 "cells": [
  {
   "cell_type": "code",
   "execution_count": 20,
   "metadata": {},
   "outputs": [
    {
     "name": "stdout",
     "output_type": "stream",
     "text": [
      "Linked list:\n",
      "5 4 3 2 1 \n",
      "After deleting an element:\n",
      "5 4 3 2 "
     ]
    }
   ],
   "source": [
    "# Create a node\n",
    "class Node:\n",
    "    def __init__(self, item):\n",
    "        self.item = item\n",
    "        self.next = None\n",
    "        \n",
    "class LinkedList:\n",
    "\n",
    "    def __init__(self):\n",
    "        self.head = None\n",
    "\n",
    "    # Insert at the beginning\n",
    "    def insertAtBeginning(self, data):\n",
    "        new_node = Node(data)\n",
    "\n",
    "        new_node.next = self.head\n",
    "        self.head = new_node\n",
    "\n",
    "    # Deleting a node\n",
    "    def deleteNode(self):\n",
    "\n",
    "        if self.head == None:\n",
    "            return\n",
    "\n",
    "        temp = self.head\n",
    "\n",
    "        # If the list is empty or  \n",
    "        # contains less than 2 nodes \n",
    "        if (temp == None or temp.next == None): \n",
    "            return -1\n",
    "\n",
    "        # Traverse the linked list \n",
    "        while (temp != None): \n",
    "  \n",
    "            # Check if the current node is the \n",
    "            # second last node or not \n",
    "            if (temp.next.next == None): \n",
    "                temp.next = None \n",
    "            # If not then move to the next node \n",
    "            temp = temp.next\n",
    "            \n",
    "    def printList(self):\n",
    "        temp_node = self.head\n",
    "        while (temp_node):\n",
    "            print(str(temp_node.item) + \" \", end=\"\")\n",
    "            temp_node = temp_node.next\n",
    "\n",
    "\n",
    "if __name__ == '__main__':\n",
    "\n",
    "    llist = LinkedList()\n",
    "    llist.insertAtBeginning(1)\n",
    "    llist.insertAtBeginning(2)\n",
    "    llist.insertAtBeginning(3)\n",
    "    llist.insertAtBeginning(4)\n",
    "    llist.insertAtBeginning(5)\n",
    "\n",
    "    print('Linked list:')\n",
    "    llist.printList()\n",
    "\n",
    "    print(\"\\nAfter deleting an element:\")\n",
    "    llist.deleteNode()\n",
    "    llist.printList()    \n",
    "    "
   ]
  },
  {
   "cell_type": "code",
   "execution_count": 21,
   "metadata": {},
   "outputs": [
    {
     "name": "stdout",
     "output_type": "stream",
     "text": [
      "Element is present at index 3\n"
     ]
    }
   ],
   "source": [
    "def binary_search(arr, x): \n",
    "    low = 0\n",
    "    high = len(arr) - 1\n",
    "    mid = 0\n",
    "  \n",
    "    while low <= high: \n",
    "  \n",
    "        mid = (high + low) // 2\n",
    "  \n",
    "        # Check if x is present at mid \n",
    "        if arr[mid] < x: \n",
    "            low = mid + 1\n",
    "  \n",
    "        # If x is greater, ignore left half \n",
    "        elif arr[mid] > x: \n",
    "            high = mid - 1\n",
    "  \n",
    "        # If x is smaller, ignore right half \n",
    "        else: \n",
    "            return mid \n",
    "  \n",
    "    # If we reach here, then the element was not present \n",
    "    return -1\n",
    "  \n",
    "  \n",
    "# Test array \n",
    "arr = [ 2, 3, 4, 10, 40 ] \n",
    "x = 10\n",
    "  \n",
    "# Function call \n",
    "result = binary_search(arr, x) \n",
    "  \n",
    "if result != -1: \n",
    "    print(\"Element is present at index\", str(result)) \n",
    "else: \n",
    "    print(\"Element is not present in array\")"
   ]
  },
  {
   "cell_type": "code",
   "execution_count": 22,
   "metadata": {},
   "outputs": [
    {
     "name": "stdout",
     "output_type": "stream",
     "text": [
      "The middle element is:  2\n"
     ]
    }
   ],
   "source": [
    "# Node class  \n",
    "class Node:  \n",
    "  \n",
    "    # Function to initialise the node object  \n",
    "    def __init__(self, data):  \n",
    "        self.data = data  \n",
    "        self.next = None \n",
    "  \n",
    "class LinkedList: \n",
    "  \n",
    "    def __init__(self): \n",
    "        self.head = None\n",
    "  \n",
    "    def push(self, new_data): \n",
    "        new_node = Node(new_data) \n",
    "        new_node.next = self.head \n",
    "        self.head = new_node \n",
    "  \n",
    "    # Function to get the middle of  \n",
    "    # the linked list \n",
    "    def printMiddle(self): \n",
    "        slow_ptr = self.head \n",
    "        fast_ptr = self.head \n",
    "  \n",
    "        if self.head is not None: \n",
    "            while (fast_ptr is not None and fast_ptr.next is not None): \n",
    "                fast_ptr = fast_ptr.next.next\n",
    "                slow_ptr = slow_ptr.next\n",
    "            print(\"The middle element is: \", slow_ptr.data) \n",
    "  \n",
    "# Driver code \n",
    "list1 = LinkedList() \n",
    "list1.push(5) \n",
    "list1.push(4) \n",
    "list1.push(2) \n",
    "list1.push(3) \n",
    "list1.push(1) \n",
    "list1.printMiddle()"
   ]
  },
  {
   "cell_type": "code",
   "execution_count": null,
   "metadata": {},
   "outputs": [],
   "source": []
  }
 ],
 "metadata": {
  "kernelspec": {
   "display_name": "Python 3",
   "language": "python",
   "name": "python3"
  },
  "language_info": {
   "codemirror_mode": {
    "name": "ipython",
    "version": 3
   },
   "file_extension": ".py",
   "mimetype": "text/x-python",
   "name": "python",
   "nbconvert_exporter": "python",
   "pygments_lexer": "ipython3",
   "version": "3.7.6"
  }
 },
 "nbformat": 4,
 "nbformat_minor": 4
}
